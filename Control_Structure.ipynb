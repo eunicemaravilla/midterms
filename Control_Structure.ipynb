{
  "nbformat": 4,
  "nbformat_minor": 0,
  "metadata": {
    "colab": {
      "name": "Control Structure.ipynb",
      "provenance": [],
      "collapsed_sections": [],
      "include_colab_link": true
    },
    "kernelspec": {
      "name": "python3",
      "display_name": "Python 3"
    },
    "language_info": {
      "name": "python"
    }
  },
  "cells": [
    {
      "cell_type": "markdown",
      "metadata": {
        "id": "view-in-github",
        "colab_type": "text"
      },
      "source": [
        "<a href=\"https://colab.research.google.com/github/eunicemaravilla/midterms/blob/main/Control_Structure.ipynb\" target=\"_parent\"><img src=\"https://colab.research.google.com/assets/colab-badge.svg\" alt=\"Open In Colab\"/></a>"
      ]
    },
    {
      "cell_type": "markdown",
      "metadata": {
        "id": "o87Yuy_qSazu"
      },
      "source": [
        "Maria Eunice Maravilla\n",
        "\n",
        "BSECE 2-2\n",
        "\n",
        "\n",
        "If Statement"
      ]
    },
    {
      "cell_type": "code",
      "metadata": {
        "colab": {
          "base_uri": "https://localhost:8080/"
        },
        "id": "zcQG5yytSIiT",
        "outputId": "64670420-09bd-4176-e911-af4c25e99a4c"
      },
      "source": [
        "a=12\n",
        "b=100\n",
        "if b>a:\n",
        "  print(\"b is greater than a\")"
      ],
      "execution_count": null,
      "outputs": [
        {
          "output_type": "stream",
          "name": "stdout",
          "text": [
            "b is greater than a\n"
          ]
        }
      ]
    },
    {
      "cell_type": "markdown",
      "metadata": {
        "id": "FxFlOVf_Smgd"
      },
      "source": [
        "Elif Statement"
      ]
    },
    {
      "cell_type": "code",
      "metadata": {
        "colab": {
          "base_uri": "https://localhost:8080/"
        },
        "id": "ZJ5bS-fySpt-",
        "outputId": "ddfcef3f-5134-47ec-c296-760a1360db84"
      },
      "source": [
        "a=12\n",
        "b=100\n",
        "if b<a:\n",
        "    print(\"b is less than a\")\n",
        "elif b>a:\n",
        "    print(\"b is greater than a\")"
      ],
      "execution_count": null,
      "outputs": [
        {
          "output_type": "stream",
          "name": "stdout",
          "text": [
            "b is greater than a\n"
          ]
        }
      ]
    },
    {
      "cell_type": "markdown",
      "metadata": {
        "id": "FZNcin8PTM7m"
      },
      "source": [
        "Else Statement"
      ]
    },
    {
      "cell_type": "code",
      "metadata": {
        "colab": {
          "base_uri": "https://localhost:8080/"
        },
        "id": "dLsX9ZWWSo1U",
        "outputId": "d28d052c-8e2e-497a-de73-75117aed7b21"
      },
      "source": [
        "a=12\n",
        "b=12\n",
        "if b<a:\n",
        "  print(\"b is less than a\")\n",
        "elif b>a:\n",
        "  print(\"b is greater than a\")\n",
        "else:\n",
        "  print(\"a is equal to b\")"
      ],
      "execution_count": null,
      "outputs": [
        {
          "output_type": "stream",
          "name": "stdout",
          "text": [
            "a is equal to b\n"
          ]
        }
      ]
    },
    {
      "cell_type": "markdown",
      "metadata": {
        "id": "Od6wQHDkTdP_"
      },
      "source": [
        "Short Hand If...Else"
      ]
    },
    {
      "cell_type": "code",
      "metadata": {
        "colab": {
          "base_uri": "https://localhost:8080/"
        },
        "id": "M4kwtY9ZThaA",
        "outputId": "438631ca-b754-4d35-d7ad-38d79909b13a"
      },
      "source": [
        "a=420\n",
        "b=330\n",
        "print(\"A\") if a>b else print(\"B\")"
      ],
      "execution_count": null,
      "outputs": [
        {
          "output_type": "stream",
          "name": "stdout",
          "text": [
            "A\n"
          ]
        }
      ]
    },
    {
      "cell_type": "markdown",
      "metadata": {
        "id": "RxJ9U7z3Tt1A"
      },
      "source": [
        "And condition"
      ]
    },
    {
      "cell_type": "code",
      "metadata": {
        "colab": {
          "base_uri": "https://localhost:8080/"
        },
        "id": "w5QUzgScTvv_",
        "outputId": "5de2492e-474b-4c38-b922-c63e2b4e9fe1"
      },
      "source": [
        "a=200\n",
        "b=33\n",
        "c=500\n",
        "if a>b and a<c:\n",
        "  print(\"Both conditions are true\")"
      ],
      "execution_count": null,
      "outputs": [
        {
          "output_type": "stream",
          "name": "stdout",
          "text": [
            "Both conditions are true\n"
          ]
        }
      ]
    },
    {
      "cell_type": "markdown",
      "metadata": {
        "id": "rgi-82xST533"
      },
      "source": [
        "Or Condition"
      ]
    },
    {
      "cell_type": "code",
      "metadata": {
        "colab": {
          "base_uri": "https://localhost:8080/"
        },
        "id": "VBH_7EjDT66a",
        "outputId": "4bff9116-6b44-416a-f410-39c55b11ec96"
      },
      "source": [
        "a=200\n",
        "b=33\n",
        "c=500\n",
        "if a>b or a<b:\n",
        "  print(\"One of the conditions is True\")"
      ],
      "execution_count": null,
      "outputs": [
        {
          "output_type": "stream",
          "name": "stdout",
          "text": [
            "One of the conditions is True\n"
          ]
        }
      ]
    },
    {
      "cell_type": "markdown",
      "metadata": {
        "id": "P0ojEu6QUDKI"
      },
      "source": [
        "Nested If"
      ]
    },
    {
      "cell_type": "code",
      "metadata": {
        "colab": {
          "base_uri": "https://localhost:8080/"
        },
        "id": "u0iSpV1YUGBY",
        "outputId": "94b52536-6973-4f62-a47f-1e8b31013f51"
      },
      "source": [
        "x=11\n",
        "if x>10:\n",
        "  print(\"Above 10\")\n",
        "else:\n",
        "  print(\"but not above 10\")\n",
        "if x>20:\n",
        "  print(\"and also above 20!\")\n",
        "else:\n",
        "  print(\"but not above 20\")"
      ],
      "execution_count": null,
      "outputs": [
        {
          "output_type": "stream",
          "name": "stdout",
          "text": [
            "Above 10\n",
            "but not above 20\n"
          ]
        }
      ]
    },
    {
      "cell_type": "markdown",
      "metadata": {
        "id": "_bSIJSjtUdcJ"
      },
      "source": [
        "Nested if...Else"
      ]
    },
    {
      "cell_type": "code",
      "metadata": {
        "colab": {
          "base_uri": "https://localhost:8080/"
        },
        "id": "yWwC4hb2UffB",
        "outputId": "5f75e1cf-8fe2-4687-f735-89a523c14ae4"
      },
      "source": [
        "x=41\n",
        "if x>10:\n",
        "  print(\"Above 10\")\n",
        "if x>20:\n",
        "  print(\"and also above 20!\")\n",
        "else:\n",
        "  print(\"Below 10\")"
      ],
      "execution_count": null,
      "outputs": [
        {
          "output_type": "stream",
          "name": "stdout",
          "text": [
            "Above 10\n",
            "and also above 20!\n"
          ]
        }
      ]
    },
    {
      "cell_type": "markdown",
      "metadata": {
        "id": "-cZ08wz5Uti5"
      },
      "source": [
        "Example 1:\n",
        "Write a program that determines if the input age is qualified to vote or not the qualifying age is 18 old and above"
      ]
    },
    {
      "cell_type": "code",
      "metadata": {
        "colab": {
          "base_uri": "https://localhost:8080/"
        },
        "id": "lHWLw-lOU1dZ",
        "outputId": "ba1531e3-0ae2-4d91-96b4-b941ce076e06"
      },
      "source": [
        "x=9\n",
        "print(\"You are qualified to vote\")if x>=18 else print(\"You are unqualified to vote\")\n",
        "x=18\n",
        "\n",
        "print(\"You are qualified to vote\")if x>=18 else print(\"uYou are not qualified to vote\")\n",
        "x=20\n",
        "\n",
        "print(\"You are qualified to vote\")if x>=18 else print(\"You are not qualified to vote\")\n"
      ],
      "execution_count": null,
      "outputs": [
        {
          "output_type": "stream",
          "name": "stdout",
          "text": [
            "You are unqualified to vote\n",
            "You are qualified to vote\n",
            "You are qualified to vote\n"
          ]
        }
      ]
    },
    {
      "cell_type": "markdown",
      "metadata": {
        "id": "RB8E4TdOVAjy"
      },
      "source": [
        "Example 2: \n",
        "Write a program that determines if the input number is Positive or Negative. Consider 0 as positive(Considering that it contains no negative sign)."
      ]
    },
    {
      "cell_type": "code",
      "metadata": {
        "colab": {
          "base_uri": "https://localhost:8080/"
        },
        "id": "vrjBjEdCUwuZ",
        "outputId": "9a6ba0cc-d850-423b-a7f5-5c936ea1a565"
      },
      "source": [
        "number= int(input(\"Enter a number \"))\n",
        "if number >0:\n",
        "  print(\"You entered a positive number\")\n",
        "elif number ==0:\n",
        "  print(\"You entered zero\")\n",
        "else:\n",
        "  print(\"You entered a negative number\")\n"
      ],
      "execution_count": null,
      "outputs": [
        {
          "output_type": "stream",
          "name": "stdout",
          "text": [
            "Enter a number 0\n",
            "You entered zero\n"
          ]
        }
      ]
    },
    {
      "cell_type": "markdown",
      "metadata": {
        "id": "GBhx_QVTVJei"
      },
      "source": [
        "Example 3: Write a program to determine if the grades are: if: grade>=75,\"Passed\" grade= 74,\"Remedial\" grade<74, \"failed\""
      ]
    },
    {
      "cell_type": "code",
      "metadata": {
        "colab": {
          "base_uri": "https://localhost:8080/"
        },
        "id": "KQ6_5Ao7VSsz",
        "outputId": "31441035-fa9d-470d-fe6f-4caa6fb37d0d"
      },
      "source": [
        "number= int(input(\"Grade: \"))\n",
        "if number >=75:\n",
        "  print(\"Passed\")\n",
        "elif number ==74:\n",
        "  print(\"Remedial\")\n",
        "else:\n",
        "  print(\"Failed\")\n"
      ],
      "execution_count": null,
      "outputs": [
        {
          "output_type": "stream",
          "name": "stdout",
          "text": [
            "Grade: 75\n",
            "Passed\n"
          ]
        }
      ]
    }
  ]
}